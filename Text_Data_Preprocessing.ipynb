{
  "cells": [
    {
      "cell_type": "code",
      "execution_count": null,
      "metadata": {
        "colab": {
          "base_uri": "https://localhost:8080/"
        },
        "id": "a0xcMmd-suoJ",
        "outputId": "242787bd-9cf4-428e-d178-46314f2f603c"
      },
      "outputs": [
        {
          "name": "stdout",
          "output_type": "stream",
          "text": [
            "Looking in indexes: https://pypi.org/simple, https://us-python.pkg.dev/colab-wheels/public/simple/\n",
            "Requirement already satisfied: nltk in /usr/local/lib/python3.7/dist-packages (3.7)\n",
            "Requirement already satisfied: joblib in /usr/local/lib/python3.7/dist-packages (from nltk) (1.1.0)\n",
            "Requirement already satisfied: tqdm in /usr/local/lib/python3.7/dist-packages (from nltk) (4.64.0)\n",
            "Requirement already satisfied: click in /usr/local/lib/python3.7/dist-packages (from nltk) (7.1.2)\n",
            "Requirement already satisfied: regex>=2021.8.3 in /usr/local/lib/python3.7/dist-packages (from nltk) (2022.6.2)\n",
            "NLTK Downloader\n",
            "---------------------------------------------------------------------------\n",
            "    d) Download   l) List    u) Update   c) Config   h) Help   q) Quit\n",
            "---------------------------------------------------------------------------\n",
            "Downloader> q\n"
          ]
        },
        {
          "output_type": "execute_result",
          "data": {
            "text/plain": [
              "True"
            ]
          },
          "metadata": {},
          "execution_count": 12
        }
      ],
      "source": [
        "! pip install nltk\n",
        "import nltk\n",
        "nltk.download()"
      ]
    },
    {
      "cell_type": "code",
      "execution_count": null,
      "metadata": {
        "colab": {
          "base_uri": "https://localhost:8080/"
        },
        "id": "cRQLvGsDsuoK",
        "outputId": "b86a3194-607a-41f1-ee6f-849410828e61"
      },
      "outputs": [
        {
          "output_type": "stream",
          "name": "stdout",
          "text": [
            "Diversion basically serves two purposes: the essentially Chinese products enjoy duty-free access and it also doesn't reflect in China's overall massive trade surplus with India, which stood at a massive $48 billion in FY20.\n",
            "After Singapore and Hong Kong, Vietnam has emerged as the third Asian trade partner, which counts on massive Chinese investments, to turn its usual trade deficit with India into a decent surplus in a span of just three years.\n",
            "Between FY18 and FY20, India's trade balance with Vietnam swang from a surplus of $2.8 billion to a deficit of $2.2 billion, according to official data (https://www.financialexpress.com/economy/china-factor-indias-trade-with-vietnam-swings-from-big-surplus-to-large-deficit/2019048/).\n",
            "While India's imports from the south-east Asian nation jumped from $5 billion in FY18 to $7.3 billion in FY20, its exports crashed from $7.8 billion to $5.1 billion during this period.\n",
            "\n",
            "<class 'str'>\n",
            "920\n"
          ]
        }
      ],
      "source": [
        "with open('text data.txt', 'r') as file:\n",
        "    raw_text = file.read()\n",
        "print(raw_text)\n",
        "\n",
        "print(type(raw_text))\n",
        "print(len(raw_text))"
      ]
    },
    {
      "cell_type": "code",
      "execution_count": null,
      "metadata": {
        "colab": {
          "base_uri": "https://localhost:8080/"
        },
        "id": "8i_5ccuAsuoL",
        "outputId": "33df4130-3aa7-40e3-ed5e-8adfb5cf9b7d"
      },
      "outputs": [
        {
          "output_type": "stream",
          "name": "stdout",
          "text": [
            "diversion basically serves two purposes: the essentially chinese products enjoy duty-free access and it also doesn't reflect in china's overall massive trade surplus with india, which stood at a massive $48 billion in fy20.\n",
            "after singapore and hong kong, vietnam has emerged as the third asian trade partner, which counts on massive chinese investments, to turn its usual trade deficit with india into a decent surplus in a span of just three years.\n",
            "between fy18 and fy20, india's trade balance with vietnam swang from a surplus of $2.8 billion to a deficit of $2.2 billion, according to official data (https://www.financialexpress.com/economy/china-factor-indias-trade-with-vietnam-swings-from-big-surplus-to-large-deficit/2019048/).\n",
            "while india's imports from the south-east asian nation jumped from $5 billion in fy18 to $7.3 billion in fy20, its exports crashed from $7.8 billion to $5.1 billion during this period.\n",
            "\n",
            "<class 'str'>\n"
          ]
        }
      ],
      "source": [
        "# converting into lowercase\n",
        "text_lowercase = str.lower(raw_text)\n",
        "print(text_lowercase)\n",
        "print(type(text_lowercase))"
      ]
    },
    {
      "cell_type": "code",
      "execution_count": null,
      "metadata": {
        "colab": {
          "base_uri": "https://localhost:8080/"
        },
        "id": "vDO0CtCasuoL",
        "outputId": "2ba8861e-4890-4133-ca65-6d24ec9dd210"
      },
      "outputs": [
        {
          "output_type": "stream",
          "name": "stdout",
          "text": [
            "diversion basically serves two purposes: the essentially chinese products enjoy duty-free access and it also doesn't reflect in china's overall massive trade surplus with india, which stood at a massive $48 billion in fy20.\n",
            "after singapore and hong kong, vietnam has emerged as the third asian trade partner, which counts on massive chinese investments, to turn its usual trade deficit with india into a decent surplus in a span of just three years.\n",
            "between fy18 and fy20, india's trade balance with vietnam swang from a surplus of $2.8 billion to a deficit of $2.2 billion, according to official data (\n",
            "while india's imports from the south-east asian nation jumped from $5 billion in fy18 to $7.3 billion in fy20, its exports crashed from $7.8 billion to $5.1 billion during this period.\n",
            "\n"
          ]
        }
      ],
      "source": [
        "# Removing HTML \n",
        "\n",
        "import re\n",
        "\n",
        "def remove_url(text_data):\n",
        "    return re.sub(r\"http\\S+\", \"\", text_data)\n",
        "\n",
        "text_no_html = remove_url(text_lowercase)\n",
        "print(text_no_html)"
      ]
    },
    {
      "cell_type": "code",
      "execution_count": null,
      "metadata": {
        "colab": {
          "base_uri": "https://localhost:8080/"
        },
        "id": "PeCHXeQ_suoM",
        "outputId": "d8d607c8-82d9-489d-9a88-a8c0091f210a"
      },
      "outputs": [
        {
          "output_type": "stream",
          "name": "stdout",
          "text": [
            "!\"#$%&'()*+,-./:;<=>?@[\\]^_`{|}~\n",
            "diversion basically serves two purposes the essentially chinese products enjoy dutyfree access and it also doesnt reflect in chinas overall massive trade surplus with india which stood at a massive 48 billion in fy20\n",
            "after singapore and hong kong vietnam has emerged as the third asian trade partner which counts on massive chinese investments to turn its usual trade deficit with india into a decent surplus in a span of just three years\n",
            "between fy18 and fy20 indias trade balance with vietnam swang from a surplus of 28 billion to a deficit of 22 billion according to official data \n",
            "while indias imports from the southeast asian nation jumped from 5 billion in fy18 to 73 billion in fy20 its exports crashed from 78 billion to 51 billion during this period\n",
            "\n"
          ]
        }
      ],
      "source": [
        "# Removing Punctuation\n",
        "import string\n",
        "print(string.punctuation)\n",
        "text_no_punctuation = \"\".join([i for i in text_no_html if i not in string.punctuation])\n",
        "#text_no_punctuation = [i for i in text_no_html if i not in string.punctuation]\n",
        "print(text_no_punctuation)"
      ]
    },
    {
      "cell_type": "code",
      "execution_count": null,
      "metadata": {
        "colab": {
          "base_uri": "https://localhost:8080/"
        },
        "id": "kfG2qdRPsuoM",
        "outputId": "e9eee05c-fe6d-4a40-ecc0-ae6d2508d28c"
      },
      "outputs": [
        {
          "output_type": "stream",
          "name": "stdout",
          "text": [
            "diversion basically serves two purposes the essentially chinese products enjoy dutyfree access and it also doesnt reflect in chinas overall massive trade surplus with india which stood at a massive  billion in fy\n",
            "after singapore and hong kong vietnam has emerged as the third asian trade partner which counts on massive chinese investments to turn its usual trade deficit with india into a decent surplus in a span of just three years\n",
            "between fy and fy indias trade balance with vietnam swang from a surplus of  billion to a deficit of  billion according to official data \n",
            "while indias imports from the southeast asian nation jumped from  billion in fy to  billion in fy its exports crashed from  billion to  billion during this period\n",
            "\n"
          ]
        }
      ],
      "source": [
        "# Removing Numbers\n",
        "text_no_numbers = ''.join([i for i in text_no_punctuation if not i.isdigit()])\n",
        "print(text_no_numbers)"
      ]
    },
    {
      "cell_type": "code",
      "execution_count": null,
      "metadata": {
        "colab": {
          "base_uri": "https://localhost:8080/"
        },
        "id": "6Uzoppd0suoM",
        "outputId": "fe3db5ba-2860-4303-9987-48f4fb5bc465"
      },
      "outputs": [
        {
          "output_type": "stream",
          "name": "stdout",
          "text": [
            "diversion basically serves two purposes the essentially chinese products enjoy dutyfree access and it also doesnt reflect in china overall massive trade surplus with india which stood at a massive  billion in fy\n",
            "after singapore and hong kong vietnam has emerged as the third asian trade partner which counts on massive chinese investments to turn its usual trade deficit with india into a decent surplus in a span of just three years\n",
            "between fy and fy India trade balance with vietnam swang from a surplus of  billion to a deficit of  billion according to official data \n",
            "while India imports from the southeast asian nation jumped from  billion in fy to  billion in fy its exports crashed from  billion to  billion during this period\n",
            "\n"
          ]
        }
      ],
      "source": [
        "# replacing words\n",
        "text_replace1 = text_no_numbers.replace(\"indias\", \"India\")\n",
        "text_replace2 = text_replace1.replace(\"chinas\",\"china\")\n",
        "print(text_replace2)"
      ]
    },
    {
      "cell_type": "code",
      "execution_count": null,
      "metadata": {
        "colab": {
          "base_uri": "https://localhost:8080/"
        },
        "id": "vRsPKv-TsuoM",
        "outputId": "943ed919-59de-4268-fdaa-c8d5eae0aabe"
      },
      "outputs": [
        {
          "output_type": "stream",
          "name": "stdout",
          "text": [
            "diversion basically serves two purposes the essentially chinese products enjoy dutyfree access and it also doesn reflect in china overall massive trade surplus with india which stood at a massive  billion in by\n",
            "after singapore and long long vienna has emerged as the third asia trade partner which counts on massive chinese investments to turn its usual trade deficit with india into a decent surplus in a span of just three years\n",
            "between by and by India trade balance with vienna sang from a surplus of  billion to a deficit of  billion according to official data \n",
            "while India imports from the southeast asia nation jumped from  billion in by to  billion in by its exports crashed from  billion to  billion during this period\n",
            "\n"
          ]
        }
      ],
      "source": [
        "#Spelling Correction\n",
        "#! pip install textblob\n",
        "from textblob import TextBlob\n",
        "text_Corrected = TextBlob(text_replace2)   \n",
        "text_Corrected = text_Corrected.correct()\n",
        "print(text_Corrected)"
      ]
    },
    {
      "cell_type": "code",
      "source": [
        "import nltk\n",
        "nltk.download('stopwords')"
      ],
      "metadata": {
        "colab": {
          "base_uri": "https://localhost:8080/"
        },
        "id": "TAAE0RcsvPkG",
        "outputId": "38e2adf2-8987-4ac3-c7cf-08d6a77a731e"
      },
      "execution_count": null,
      "outputs": [
        {
          "output_type": "stream",
          "name": "stderr",
          "text": [
            "[nltk_data] Downloading package stopwords to /root/nltk_data...\n",
            "[nltk_data]   Unzipping corpora/stopwords.zip.\n"
          ]
        },
        {
          "output_type": "execute_result",
          "data": {
            "text/plain": [
              "True"
            ]
          },
          "metadata": {},
          "execution_count": 13
        }
      ]
    },
    {
      "cell_type": "code",
      "execution_count": null,
      "metadata": {
        "scrolled": true,
        "colab": {
          "base_uri": "https://localhost:8080/"
        },
        "id": "-RSizxjisuoN",
        "outputId": "4302266d-9fe8-44ee-c5f9-5882dd7b62c3"
      },
      "outputs": [
        {
          "output_type": "stream",
          "name": "stdout",
          "text": [
            "i, me, my, myself, we, our, ours, ourselves, you, you're, you've, you'll, you'd, your, yours, yourself, yourselves, he, him, his, himself, she, she's, her, hers, herself, it, it's, its, itself, they, them, their, theirs, themselves, what, which, who, whom, this, that, that'll, these, those, am, is, are, was, were, be, been, being, have, has, had, having, do, does, did, doing, a, an, the, and, but, if, or, because, as, until, while, of, at, by, for, with, about, against, between, into, through, during, before, after, above, below, to, from, up, down, in, out, on, off, over, under, again, further, then, once, here, there, when, where, why, how, all, any, both, each, few, more, most, other, some, such, no, nor, not, only, own, same, so, than, too, very, s, t, can, will, just, don, don't, should, should've, now, d, ll, m, o, re, ve, y, ain, aren, aren't, couldn, couldn't, didn, didn't, doesn, doesn't, hadn, hadn't, hasn, hasn't, haven, haven't, isn, isn't, ma, mightn, mightn't, mustn, mustn't, needn, needn't, shan, shan't, shouldn, shouldn't, wasn, wasn't, weren, weren't, won, won't, wouldn, wouldn't\n",
            "diversion basically serves two purposes essentially chinese products enjoy dutyfree access reflect china overall massive trade surplus india stood massive singapore long long vienna emerged third asia trade partner counts massive chinese investments turn usual trade deficit india decent surplus span three years India trade balance vienna sang surplus deficit according official data India imports southeast asia nation jumped exports crashed period\n",
            "450\n"
          ]
        }
      ],
      "source": [
        "# Removing Stopwords\n",
        "\n",
        "from nltk.corpus import stopwords\n",
        "print(\", \".join(stopwords.words('english')))\n",
        "\n",
        "STOPWORDS = nltk.corpus.stopwords.words('english')\n",
        "new_stopwords = [\"fy\", \"billion\",\"also\"]\n",
        "STOPWORDS.extend(new_stopwords)\n",
        "def remove_stopwords(text):\n",
        "    return \" \".join([word for word in str(text).split() if word not in STOPWORDS])\n",
        "text_no_stopwords = remove_stopwords(text_Corrected)\n",
        "print(text_no_stopwords)\n",
        "print(len(text_no_stopwords))\n"
      ]
    },
    {
      "cell_type": "code",
      "source": [
        "nltk.download('punkt')"
      ],
      "metadata": {
        "colab": {
          "base_uri": "https://localhost:8080/"
        },
        "id": "qCjcNsravZt8",
        "outputId": "4d02603a-e8a0-4525-e6b3-0f12c6a530f9"
      },
      "execution_count": null,
      "outputs": [
        {
          "output_type": "stream",
          "name": "stderr",
          "text": [
            "[nltk_data] Downloading package punkt to /root/nltk_data...\n",
            "[nltk_data]   Unzipping tokenizers/punkt.zip.\n"
          ]
        },
        {
          "output_type": "execute_result",
          "data": {
            "text/plain": [
              "True"
            ]
          },
          "metadata": {},
          "execution_count": 16
        }
      ]
    },
    {
      "cell_type": "code",
      "execution_count": null,
      "metadata": {
        "colab": {
          "base_uri": "https://localhost:8080/"
        },
        "id": "3oILj-SjsuoN",
        "outputId": "de6e0ad2-02de-4f2a-febe-6fb60c763df1"
      },
      "outputs": [
        {
          "output_type": "stream",
          "name": "stdout",
          "text": [
            "['diversion', 'basically', 'serves', 'two', 'purposes', 'essentially', 'chinese', 'products', 'enjoy', 'dutyfree', 'access', 'reflect', 'china', 'overall', 'massive', 'trade', 'surplus', 'india', 'stood', 'massive', 'singapore', 'long', 'long', 'vienna', 'emerged', 'third', 'asia', 'trade', 'partner', 'counts', 'massive', 'chinese', 'investments', 'turn', 'usual', 'trade', 'deficit', 'india', 'decent', 'surplus', 'span', 'three', 'years', 'India', 'trade', 'balance', 'vienna', 'sang', 'surplus', 'deficit', 'according', 'official', 'data', 'India', 'imports', 'southeast', 'asia', 'nation', 'jumped', 'exports', 'crashed', 'period']\n"
          ]
        }
      ],
      "source": [
        "from nltk.tokenize import word_tokenize \n",
        "text_tokenize = word_tokenize(text_no_stopwords)\n",
        "print(text_tokenize)\n"
      ]
    },
    {
      "cell_type": "code",
      "execution_count": null,
      "metadata": {
        "colab": {
          "base_uri": "https://localhost:8080/"
        },
        "id": "DFzkK2absuoN",
        "outputId": "be81fa4d-4175-4c88-b1c1-f7cd86ab6c35"
      },
      "outputs": [
        {
          "output_type": "stream",
          "name": "stdout",
          "text": [
            "<FreqDist with 48 samples and 62 outcomes>\n",
            "[('trade', 4), ('massive', 3), ('surplus', 3), ('chinese', 2), ('india', 2), ('long', 2), ('vienna', 2), ('asia', 2), ('deficit', 2), ('India', 2), ('diversion', 1), ('basically', 1), ('serves', 1), ('two', 1), ('purposes', 1), ('essentially', 1), ('products', 1), ('enjoy', 1), ('dutyfree', 1), ('access', 1), ('reflect', 1), ('china', 1), ('overall', 1), ('stood', 1), ('singapore', 1), ('emerged', 1), ('third', 1), ('partner', 1), ('counts', 1), ('investments', 1), ('turn', 1), ('usual', 1), ('decent', 1), ('span', 1), ('three', 1), ('years', 1), ('balance', 1), ('sang', 1), ('according', 1), ('official', 1), ('data', 1), ('imports', 1), ('southeast', 1), ('nation', 1), ('jumped', 1), ('exports', 1), ('crashed', 1), ('period', 1)]\n"
          ]
        }
      ],
      "source": [
        "from nltk import FreqDist\n",
        "fdist1 = FreqDist(text_tokenize)\n",
        "print(fdist1)\n",
        "print(fdist1.most_common())"
      ]
    },
    {
      "cell_type": "code",
      "execution_count": null,
      "metadata": {
        "colab": {
          "base_uri": "https://localhost:8080/",
          "height": 343
        },
        "id": "X0wWSOFDsuoO",
        "outputId": "04ddee34-ef18-494a-a49b-752adac80712"
      },
      "outputs": [
        {
          "output_type": "display_data",
          "data": {
            "text/plain": [
              "<Figure size 432x288 with 1 Axes>"
            ],
            "image/png": "[encoded data removed]"
          },
          "metadata": {
            "needs_background": "light"
          }
        },
        {
          "output_type": "execute_result",
          "data": {
            "text/plain": [
              "<matplotlib.axes._subplots.AxesSubplot at 0x7f0e36183310>"
            ]
          },
          "metadata": {},
          "execution_count": 19
        }
      ],
      "source": [
        "fdist1.plot(10,title='Most Frequent words')"
      ]
    },
    {
      "cell_type": "code",
      "execution_count": null,
      "metadata": {
        "id": "1sLhwfW9suoO"
      },
      "outputs": [],
      "source": []
    }
  ],
  "metadata": {
    "kernelspec": {
      "display_name": "Python 3",
      "language": "python",
      "name": "python3"
    },
    "language_info": {
      "codemirror_mode": {
        "name": "ipython",
        "version": 3
      },
      "file_extension": ".py",
      "mimetype": "text/x-python",
      "name": "python",
      "nbconvert_exporter": "python",
      "pygments_lexer": "ipython3",
      "version": "3.8.5"
    },
    "colab": {
      "provenance": []
    }
  },
  "nbformat": 4,
  "nbformat_minor": 0
}